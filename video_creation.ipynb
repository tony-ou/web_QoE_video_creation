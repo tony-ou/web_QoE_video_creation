{
 "cells": [
  {
   "cell_type": "markdown",
   "metadata": {},
   "source": [
    "# What the code does:\n",
    "\n",
    "1. How to create a video from a webpage image\n",
    "2. How to delay one region\n",
    "3. How to speed up one region relative to others\n",
    "4. How to add browser header and countdown timers to videos\n",
    "5. Demo on creating videos for a campaign\n",
    "\n"
   ]
  },
  {
   "cell_type": "code",
   "execution_count": 13,
   "metadata": {},
   "outputs": [],
   "source": [
    "from moviepy.video import *\n",
    "from moviepy.editor import *\n",
    "import os\n",
    "import cv2\n",
    "from PIL import Image\n",
    "import pandas as pd\n",
    "try:\n",
    "    os.mkdir('examples')\n",
    "except:\n",
    "    pass\n"
   ]
  },
  {
   "cell_type": "markdown",
   "metadata": {},
   "source": [
    "# 1. How to create a video from a webpage image"
   ]
  },
  {
   "cell_type": "code",
   "execution_count": 110,
   "metadata": {},
   "outputs": [
    {
     "name": "stderr",
     "output_type": "stream",
     "text": [
      "t:   7%|▋         | 15/227 [12:09:26<00:43,  4.90it/s, now=None]"
     ]
    },
    {
     "name": "stdout",
     "output_type": "stream",
     "text": [
      "Moviepy - Building video examples/separate_poke2.mp4.\n",
      "Moviepy - Writing video examples/separate_poke2.mp4\n",
      "\n"
     ]
    },
    {
     "name": "stderr",
     "output_type": "stream",
     "text": [
      "\n",
      "t:   0%|          | 0/30 [00:00<?, ?it/s, now=None]\u001b[A\n",
      "t:  10%|█         | 3/30 [00:00<00:02, 10.57it/s, now=None]\u001b[A\n",
      "t:  17%|█▋        | 5/30 [00:00<00:02, 10.23it/s, now=None]\u001b[A\n",
      "t:  27%|██▋       | 8/30 [00:00<00:01, 11.10it/s, now=None]\u001b[A\n",
      "t:  33%|███▎      | 10/30 [00:00<00:01, 11.53it/s, now=None]\u001b[A\n",
      "t:  43%|████▎     | 13/30 [00:00<00:01, 13.77it/s, now=None]\u001b[A\n",
      "t:  50%|█████     | 15/30 [00:01<00:01, 13.62it/s, now=None]\u001b[A\n",
      "t:  60%|██████    | 18/30 [00:01<00:00, 13.84it/s, now=None]\u001b[A\n",
      "t:  70%|███████   | 21/30 [00:01<00:00, 15.67it/s, now=None]\u001b[A\n",
      "t:  83%|████████▎ | 25/30 [00:01<00:00, 18.74it/s, now=None]\u001b[A\n",
      "t:  93%|█████████▎| 28/30 [00:02<00:00, 10.39it/s, now=None]\u001b[A\n",
      "t: 100%|██████████| 30/30 [00:02<00:00, 10.73it/s, now=None]\u001b[A\n",
      "t:   7%|▋         | 15/227 [12:09:29<00:43,  4.90it/s, now=None]"
     ]
    },
    {
     "name": "stdout",
     "output_type": "stream",
     "text": [
      "Moviepy - Done !\n",
      "Moviepy - video ready examples/separate_poke2.mp4\n"
     ]
    }
   ],
   "source": [
    "webpage = ImageClip('separate_poke2.png').set_duration(2).set_fps(10)\n",
    "white_video = ColorClip((1920,1080), (255,255,255), duration=1).set_fps(10)\n",
    "concatenate([white_video,webpage]).write_videofile('examples/separate_poke2.mp4')"
   ]
  },
  {
   "cell_type": "markdown",
   "metadata": {},
   "source": [
    "# 2. Delay regions of web pages"
   ]
  },
  {
   "cell_type": "code",
   "execution_count": 28,
   "metadata": {},
   "outputs": [
    {
     "name": "stderr",
     "output_type": "stream",
     "text": [
      "chunk:  59%|█████▊    | 85/145 [00:00<00:00, 844.41it/s, now=None]"
     ]
    },
    {
     "name": "stdout",
     "output_type": "stream",
     "text": [
      "Moviepy - Building video examples/delay.mp4.\n",
      "MoviePy - Writing audio in delayTEMP_MPY_wvf_snd.mp3\n"
     ]
    },
    {
     "name": "stderr",
     "output_type": "stream",
     "text": [
      "t:   0%|          | 0/66 [00:00<?, ?it/s, now=None]               "
     ]
    },
    {
     "name": "stdout",
     "output_type": "stream",
     "text": [
      "MoviePy - Done.\n",
      "Moviepy - Writing video examples/delay.mp4\n",
      "\n"
     ]
    },
    {
     "name": "stderr",
     "output_type": "stream",
     "text": [
      "                                                            \r"
     ]
    },
    {
     "name": "stdout",
     "output_type": "stream",
     "text": [
      "Moviepy - Done !\n",
      "Moviepy - video ready examples/delay.mp4\n"
     ]
    }
   ],
   "source": [
    "try:\n",
    "    os.mkdir('temp')\n",
    "except:\n",
    "    pass\n",
    "\n",
    "clip = VideoFileClip('input.mp4'.format(video))\n",
    "composite_list = []\n",
    "new_clip = vfx.crop(clip, x1 = 328, x2= 539, y1= 180, y2=414)\n",
    "new_clip = vfx.freeze(new_clip,t=0,freeze_duration=2)\n",
    "composite_list.append(new_clip.set_position([328,180])) \n",
    "                    \n",
    "# extend base clip to duration of final video\n",
    "extended_clip= vfx.freeze(new_clip,t=new_clip.duration-0.5,freeze_duration=2)\n",
    "\n",
    "composite_list.insert(0, extended_clip)\n",
    "\n",
    "   \n",
    "final = CompositeVideoClip(composite_list)\n",
    "final.write_videofile(\"examples/delay.mp4\")\n"
   ]
  },
  {
   "cell_type": "markdown",
   "metadata": {},
   "source": [
    "# 3. Delay other regions to relatively speed up some regions"
   ]
  },
  {
   "cell_type": "code",
   "execution_count": 74,
   "metadata": {
    "collapsed": true
   },
   "outputs": [
    {
     "name": "stderr",
     "output_type": "stream",
     "text": [
      "                                                            \n",
      "t:  26%|██▌       | 17/66 [20:35<00:25,  1.95it/s, now=None]\n",
      "                                                            \u001b[A\n",
      "t:  26%|██▌       | 17/66 [20:35<00:25,  1.95it/s, now=None]\n",
      "t:  38%|███▊      | 25/66 [13:13<00:11,  3.53it/s, now=None]\u001b[A\n",
      "\n",
      "chunk:   0%|          | 0/145 [00:00<?, ?it/s, now=None]\u001b[A\u001b[A\n",
      "\n",
      "chunk:  67%|██████▋   | 97/145 [00:00<00:00, 968.68it/s, now=None]\u001b[A\u001b[A"
     ]
    },
    {
     "name": "stdout",
     "output_type": "stream",
     "text": [
      "Moviepy - Building video examples/speedup.mp4.\n",
      "MoviePy - Writing audio in speedupTEMP_MPY_wvf_snd.mp3\n"
     ]
    },
    {
     "name": "stderr",
     "output_type": "stream",
     "text": [
      "\n",
      "\n",
      "                                                                  \u001b[A\u001b[A\n",
      "t:  26%|██▌       | 17/66 [20:35<00:25,  1.95it/s, now=None]\n",
      "                                                            \u001b[A\n",
      "t:  26%|██▌       | 17/66 [20:35<00:25,  1.95it/s, now=None]\n",
      "t:  38%|███▊      | 25/66 [13:13<00:11,  3.53it/s, now=None]\u001b[A\n",
      "\n",
      "t:   0%|          | 0/66 [00:00<?, ?it/s, now=None]\u001b[A\u001b[A\n",
      "\n",
      "t:   5%|▍         | 3/66 [00:00<00:02, 21.10it/s, now=None]\u001b[A\u001b[A"
     ]
    },
    {
     "name": "stdout",
     "output_type": "stream",
     "text": [
      "MoviePy - Done.\n",
      "Moviepy - Writing video examples/speedup.mp4\n",
      "\n"
     ]
    },
    {
     "name": "stderr",
     "output_type": "stream",
     "text": [
      "\n",
      "\n",
      "t:   8%|▊         | 5/66 [00:00<00:04, 14.00it/s, now=None]\u001b[A\u001b[A\n",
      "\n",
      "t:   9%|▉         | 6/66 [00:00<00:08,  7.41it/s, now=None]\u001b[A\u001b[A\n",
      "\n",
      "t:  11%|█         | 7/66 [00:00<00:09,  6.08it/s, now=None]\u001b[A\u001b[A\n",
      "\n",
      "t:  12%|█▏        | 8/66 [00:01<00:10,  5.33it/s, now=None]\u001b[A\u001b[A\n",
      "\n",
      "t:  14%|█▎        | 9/66 [00:01<00:10,  5.35it/s, now=None]\u001b[A\u001b[A\n",
      "\n",
      "t:  15%|█▌        | 10/66 [00:01<00:11,  4.98it/s, now=None]\u001b[A\u001b[A\n",
      "\n",
      "t:  17%|█▋        | 11/66 [00:01<00:11,  4.66it/s, now=None]\u001b[A\u001b[A\n",
      "\n",
      "t:  18%|█▊        | 12/66 [00:01<00:10,  5.00it/s, now=None]\u001b[A\u001b[A\n",
      "\n",
      "t:  20%|█▉        | 13/66 [00:02<00:11,  4.79it/s, now=None]\u001b[A\u001b[A\n",
      "\n",
      "t:  21%|██        | 14/66 [00:02<00:11,  4.52it/s, now=None]\u001b[A\u001b[A\n",
      "\n",
      "t:  23%|██▎       | 15/66 [00:02<00:11,  4.29it/s, now=None]\u001b[A\u001b[A\n",
      "\n",
      "t:  24%|██▍       | 16/66 [00:02<00:10,  4.71it/s, now=None]\u001b[A\u001b[A\n",
      "\n",
      "t:  26%|██▌       | 17/66 [00:03<00:16,  2.95it/s, now=None]\u001b[A\u001b[A\n",
      "\n",
      "t:  27%|██▋       | 18/66 [00:04<00:22,  2.10it/s, now=None]\u001b[A\u001b[A\n",
      "\n",
      "t:  29%|██▉       | 19/66 [00:04<00:20,  2.29it/s, now=None]\u001b[A\u001b[A\n",
      "\n",
      "t:  30%|███       | 20/66 [00:04<00:16,  2.78it/s, now=None]\u001b[A\u001b[A\n",
      "\n",
      "t:  32%|███▏      | 21/66 [00:05<00:14,  3.11it/s, now=None]\u001b[A\u001b[A\n",
      "\n",
      "t:  33%|███▎      | 22/66 [00:05<00:20,  2.18it/s, now=None]\u001b[A\u001b[A\n",
      "\n",
      "t:  35%|███▍      | 23/66 [00:06<00:22,  1.89it/s, now=None]\u001b[A\u001b[A\n",
      "\n",
      "t:  36%|███▋      | 24/66 [00:07<00:24,  1.72it/s, now=None]\u001b[A\u001b[A\n",
      "\n",
      "t:  38%|███▊      | 25/66 [00:07<00:25,  1.59it/s, now=None]\u001b[A\u001b[A\n",
      "\n",
      "t:  39%|███▉      | 26/66 [00:08<00:28,  1.42it/s, now=None]\u001b[A\u001b[A\n",
      "\n",
      "t:  41%|████      | 27/66 [00:09<00:28,  1.34it/s, now=None]\u001b[A\u001b[A\n",
      "\n",
      "t:  42%|████▏     | 28/66 [00:10<00:27,  1.39it/s, now=None]\u001b[A\u001b[A\n",
      "\n",
      "t:  44%|████▍     | 29/66 [00:10<00:25,  1.44it/s, now=None]\u001b[A\u001b[A\n",
      "\n",
      "t:  45%|████▌     | 30/66 [00:11<00:25,  1.39it/s, now=None]\u001b[A\u001b[A\n",
      "\n",
      "t:  47%|████▋     | 31/66 [00:12<00:27,  1.25it/s, now=None]\u001b[A\u001b[A\n",
      "\n",
      "t:  48%|████▊     | 32/66 [00:13<00:27,  1.23it/s, now=None]\u001b[A\u001b[A\n",
      "\n",
      "t:  50%|█████     | 33/66 [00:14<00:26,  1.24it/s, now=None]\u001b[A\u001b[A\n",
      "\n",
      "t:  52%|█████▏    | 34/66 [00:15<00:25,  1.27it/s, now=None]\u001b[A\u001b[A\n",
      "\n",
      "t:  53%|█████▎    | 35/66 [00:15<00:24,  1.26it/s, now=None]\u001b[A\u001b[A\n",
      "\n",
      "t:  55%|█████▍    | 36/66 [00:16<00:25,  1.20it/s, now=None]\u001b[A\u001b[A\n",
      "\n",
      "t:  56%|█████▌    | 37/66 [00:17<00:24,  1.18it/s, now=None]\u001b[A\u001b[A\n",
      "\n",
      "t:  58%|█████▊    | 38/66 [00:18<00:24,  1.14it/s, now=None]\u001b[A\u001b[A\n",
      "\n",
      "t:  59%|█████▉    | 39/66 [00:19<00:23,  1.15it/s, now=None]\u001b[A\u001b[A\n",
      "\n",
      "t:  61%|██████    | 40/66 [00:20<00:22,  1.18it/s, now=None]\u001b[A\u001b[A\n",
      "\n",
      "t:  62%|██████▏   | 41/66 [00:21<00:21,  1.15it/s, now=None]\u001b[A\u001b[A\n",
      "\n",
      "t:  64%|██████▎   | 42/66 [00:22<00:21,  1.12it/s, now=None]\u001b[A\u001b[A\n",
      "\n",
      "t:  65%|██████▌   | 43/66 [00:22<00:18,  1.22it/s, now=None]\u001b[A\u001b[A\n",
      "\n",
      "t:  67%|██████▋   | 44/66 [00:23<00:13,  1.58it/s, now=None]\u001b[A\u001b[A\n",
      "\n",
      "t:  68%|██████▊   | 45/66 [00:23<00:10,  1.99it/s, now=None]\u001b[A\u001b[A\n",
      "\n",
      "t:  70%|██████▉   | 46/66 [00:23<00:08,  2.36it/s, now=None]\u001b[A\u001b[A\n",
      "\n",
      "t:  71%|███████   | 47/66 [00:23<00:07,  2.65it/s, now=None]\u001b[A\u001b[A\n",
      "\n",
      "t:  73%|███████▎  | 48/66 [00:24<00:06,  2.92it/s, now=None]\u001b[A\u001b[A\n",
      "\n",
      "t:  74%|███████▍  | 49/66 [00:24<00:05,  3.23it/s, now=None]\u001b[A\u001b[A\n",
      "\n",
      "t:  76%|███████▌  | 50/66 [00:24<00:04,  3.48it/s, now=None]\u001b[A\u001b[A\n",
      "\n",
      "t:  77%|███████▋  | 51/66 [00:24<00:04,  3.55it/s, now=None]\u001b[A\u001b[A\n",
      "\n",
      "t:  79%|███████▉  | 52/66 [00:25<00:03,  3.61it/s, now=None]\u001b[A\u001b[A\n",
      "\n",
      "t:  80%|████████  | 53/66 [00:25<00:03,  3.79it/s, now=None]\u001b[A\u001b[A\n",
      "\n",
      "t:  83%|████████▎ | 55/66 [00:25<00:02,  4.31it/s, now=None]\u001b[A\u001b[A\n",
      "\n",
      "t:  85%|████████▍ | 56/66 [00:25<00:02,  4.50it/s, now=None]\u001b[A\u001b[A\n",
      "\n",
      "t:  86%|████████▋ | 57/66 [00:26<00:02,  4.45it/s, now=None]\u001b[A\u001b[A\n",
      "\n",
      "t:  88%|████████▊ | 58/66 [00:26<00:01,  4.54it/s, now=None]\u001b[A\u001b[A\n",
      "\n",
      "t:  89%|████████▉ | 59/66 [00:26<00:01,  5.03it/s, now=None]\u001b[A\u001b[A\n",
      "\n",
      "t:  91%|█████████ | 60/66 [00:26<00:01,  4.76it/s, now=None]\u001b[A\u001b[A\n",
      "\n",
      "t:  92%|█████████▏| 61/66 [00:26<00:01,  4.79it/s, now=None]\u001b[A\u001b[A\n",
      "\n",
      "t:  94%|█████████▍| 62/66 [00:27<00:00,  4.66it/s, now=None]\u001b[A\u001b[A\n",
      "\n",
      "t:  95%|█████████▌| 63/66 [00:27<00:00,  4.73it/s, now=None]\u001b[A\u001b[A\n",
      "\n",
      "t:  97%|█████████▋| 64/66 [00:27<00:00,  4.71it/s, now=None]\u001b[A\u001b[A\n",
      "\n",
      "t:  98%|█████████▊| 65/66 [00:27<00:00,  4.62it/s, now=None]\u001b[A\u001b[A\n",
      "\n",
      "t: 100%|██████████| 66/66 [00:27<00:00,  4.41it/s, now=None]\u001b[A\u001b[A\n",
      "\n",
      "                                                            \u001b[A\u001b[A\n",
      "t:  26%|██▌       | 17/66 [21:04<00:25,  1.95it/s, now=None]\n",
      "                                                            \u001b[A\n",
      "t:  26%|██▌       | 17/66 [21:04<00:25,  1.95it/s, now=None]\n",
      "t:  38%|███▊      | 25/66 [13:42<00:11,  3.53it/s, now=None]\u001b[A"
     ]
    },
    {
     "name": "stdout",
     "output_type": "stream",
     "text": [
      "Moviepy - Done !\n",
      "Moviepy - video ready examples/speedup.mp4\n"
     ]
    }
   ],
   "source": [
    "# speed up region 5,6,7 by 2x\n",
    "clip = VideoFileClip('input.mp4'.format(video))\n",
    "composite_list = []\n",
    "\n",
    "delayed_clip= vfx.freeze(clip, t=0, freeze_duration=2)\n",
    "\n",
    "new_clip = vfx.crop(clip, x1 = 328, x2= 539, y1= 180, y2=414)\n",
    "new_clip = vfx.freeze(new_clip, t=new_clip.duration-0.5, freeze_duration=2)\n",
    "\n",
    "composite_list.append(delayed_clip)\n",
    "composite_list.append(new_clip.set_position([328,180]))\n",
    "\n",
    "final = CompositeVideoClip(composite_list)\n",
    "final.write_videofile(\"examples/speedup.mp4\")\n"
   ]
  },
  {
   "cell_type": "markdown",
   "metadata": {},
   "source": [
    "# 4. Add countdown timer and browser header to videos"
   ]
  },
  {
   "cell_type": "code",
   "execution_count": 93,
   "metadata": {},
   "outputs": [
    {
     "name": "stderr",
     "output_type": "stream",
     "text": [
      "t:   7%|▋         | 15/227 [00:10<00:43,  4.90it/s, now=None]\n",
      "chunk:   0%|          | 0/167 [00:00<?, ?it/s, now=None]\u001b[A\n",
      "chunk:  87%|████████▋ | 146/167 [00:00<00:00, 1457.27it/s, now=None]\u001b[A"
     ]
    },
    {
     "name": "stdout",
     "output_type": "stream",
     "text": [
      "Moviepy - Building video examples/header.mp4.\n",
      "MoviePy - Writing audio in headerTEMP_MPY_wvf_snd.mp3\n"
     ]
    },
    {
     "name": "stderr",
     "output_type": "stream",
     "text": [
      "\n",
      "t:   7%|▋         | 15/227 [00:10<00:43,  4.90it/s, now=None]       \u001b[A\n",
      "t:   0%|          | 0/227 [00:00<?, ?it/s, now=None]\u001b[A\n",
      "t:   2%|▏         | 4/227 [00:00<00:06, 37.12it/s, now=None]\u001b[A"
     ]
    },
    {
     "name": "stdout",
     "output_type": "stream",
     "text": [
      "MoviePy - Done.\n",
      "Moviepy - Writing video examples/header.mp4\n",
      "\n"
     ]
    },
    {
     "name": "stderr",
     "output_type": "stream",
     "text": [
      "\n",
      "t:   3%|▎         | 7/227 [00:00<00:07, 29.15it/s, now=None]\u001b[A\n",
      "t:   4%|▍         | 10/227 [00:00<00:08, 26.86it/s, now=None]\u001b[A\n",
      "t:   5%|▌         | 12/227 [00:00<00:10, 20.91it/s, now=None]\u001b[A\n",
      "t:   6%|▌         | 14/227 [00:00<00:11, 18.81it/s, now=None]\u001b[A\n",
      "t:   7%|▋         | 16/227 [00:02<00:55,  3.82it/s, now=None]\u001b[A\n",
      "t:   8%|▊         | 18/227 [00:02<00:56,  3.67it/s, now=None]\u001b[A\n",
      "t:   9%|▉         | 20/227 [00:04<01:34,  2.19it/s, now=None]\u001b[A\n",
      "t:   9%|▉         | 21/227 [00:06<02:52,  1.19it/s, now=None]\u001b[A\n",
      "t:   7%|▋         | 15/227 [00:19<00:43,  4.90it/s, now=None]\u001b[A\n",
      "t:  10%|█         | 23/227 [00:09<04:31,  1.33s/it, now=None]\u001b[A\n",
      "t:  11%|█▏        | 26/227 [00:10<03:10,  1.06it/s, now=None]\u001b[A\n",
      "t:  13%|█▎        | 29/227 [00:10<02:16,  1.45it/s, now=None]\u001b[A\n",
      "t:  13%|█▎        | 30/227 [00:10<01:43,  1.91it/s, now=None]\u001b[A\n",
      "t:  15%|█▍        | 33/227 [00:10<01:13,  2.65it/s, now=None]\u001b[A\n",
      "t:  16%|█▌        | 36/227 [00:10<00:56,  3.40it/s, now=None]\u001b[A\n",
      "t:  17%|█▋        | 39/227 [00:10<00:40,  4.62it/s, now=None]\u001b[A\n",
      "t:  19%|█▊        | 42/227 [00:11<00:31,  5.86it/s, now=None]\u001b[A\n",
      "t:  19%|█▉        | 44/227 [00:11<00:26,  6.96it/s, now=None]\u001b[A\n",
      "t:  21%|██        | 47/227 [00:11<00:20,  8.87it/s, now=None]\u001b[A\n",
      "t:  22%|██▏       | 49/227 [00:11<00:21,  8.22it/s, now=None]\u001b[A\n",
      "t:  23%|██▎       | 52/227 [00:11<00:16, 10.31it/s, now=None]\u001b[A\n",
      "t:  24%|██▍       | 55/227 [00:12<00:18,  9.55it/s, now=None]\u001b[A\n",
      "t:  26%|██▌       | 58/227 [00:12<00:15, 10.57it/s, now=None]\u001b[A\n",
      "t:  26%|██▋       | 60/227 [00:12<00:17,  9.62it/s, now=None]\u001b[A\n",
      "t:  27%|██▋       | 62/227 [00:12<00:18,  9.04it/s, now=None]\u001b[A\n",
      "t:  28%|██▊       | 64/227 [00:13<00:19,  8.27it/s, now=None]\u001b[A\n",
      "t:  29%|██▊       | 65/227 [00:13<00:19,  8.12it/s, now=None]\u001b[A\n",
      "t:  29%|██▉       | 66/227 [00:13<00:20,  7.90it/s, now=None]\u001b[A\n",
      "t:  30%|██▉       | 68/227 [00:13<00:19,  8.11it/s, now=None]\u001b[A\n",
      "t:  31%|███       | 70/227 [00:13<00:19,  8.21it/s, now=None]\u001b[A\n",
      "t:  32%|███▏      | 72/227 [00:14<00:17,  8.81it/s, now=None]\u001b[A\n",
      "t:  33%|███▎      | 74/227 [00:14<00:17,  8.52it/s, now=None]\u001b[A\n",
      "t:  34%|███▍      | 77/227 [00:14<00:16,  9.32it/s, now=None]\u001b[A\n",
      "t:  35%|███▍      | 79/227 [00:14<00:16,  9.24it/s, now=None]\u001b[A\n",
      "t:  36%|███▌      | 81/227 [00:15<00:16,  8.69it/s, now=None]\u001b[A\n",
      "t:  37%|███▋      | 83/227 [00:15<00:17,  8.28it/s, now=None]\u001b[A\n",
      "t:  37%|███▋      | 84/227 [00:15<00:17,  8.08it/s, now=None]\u001b[A\n",
      "t:  38%|███▊      | 86/227 [00:15<00:15,  8.88it/s, now=None]\u001b[A\n",
      "t:  38%|███▊      | 87/227 [00:15<00:17,  8.17it/s, now=None]\u001b[A\n",
      "t:  39%|███▉      | 88/227 [00:16<00:25,  5.55it/s, now=None]\u001b[A\n",
      "t:  40%|███▉      | 90/227 [00:16<00:22,  6.15it/s, now=None]\u001b[A\n",
      "t:  40%|████      | 91/227 [00:16<00:21,  6.45it/s, now=None]\u001b[A\n",
      "t:  41%|████      | 92/227 [00:16<00:19,  6.80it/s, now=None]\u001b[A\n",
      "t:  41%|████      | 93/227 [00:16<00:20,  6.52it/s, now=None]\u001b[A\n",
      "t:  42%|████▏     | 96/227 [00:17<00:16,  7.87it/s, now=None]\u001b[A\n",
      "t:  44%|████▎     | 99/227 [00:17<00:12,  9.88it/s, now=None]\u001b[A\n",
      "t:  44%|████▍     | 101/227 [00:17<00:10, 11.54it/s, now=None]\u001b[A\n",
      "t:  46%|████▌     | 104/227 [00:17<00:09, 13.51it/s, now=None]\u001b[A\n",
      "t:  47%|████▋     | 107/227 [00:17<00:07, 15.34it/s, now=None]\u001b[A\n",
      "t:  48%|████▊     | 109/227 [00:17<00:07, 15.98it/s, now=None]\u001b[A\n",
      "t:  49%|████▉     | 111/227 [00:17<00:07, 16.40it/s, now=None]\u001b[A\n",
      "t:  50%|█████     | 114/227 [00:17<00:06, 18.14it/s, now=None]\u001b[A\n",
      "t:  52%|█████▏    | 117/227 [00:18<00:06, 17.47it/s, now=None]\u001b[A\n",
      "t:  53%|█████▎    | 120/227 [00:18<00:05, 18.82it/s, now=None]\u001b[A\n",
      "t:  54%|█████▍    | 123/227 [00:18<00:06, 17.24it/s, now=None]\u001b[A\n",
      "t:  55%|█████▌    | 125/227 [00:18<00:05, 17.09it/s, now=None]\u001b[A\n",
      "t:  56%|█████▋    | 128/227 [00:18<00:05, 19.43it/s, now=None]\u001b[A\n",
      "t:  58%|█████▊    | 131/227 [00:18<00:04, 20.80it/s, now=None]\u001b[A\n",
      "t:  59%|█████▉    | 134/227 [00:18<00:04, 22.42it/s, now=None]\u001b[A\n",
      "t:  60%|██████    | 137/227 [00:18<00:03, 23.40it/s, now=None]\u001b[A\n",
      "t:  62%|██████▏   | 140/227 [00:19<00:04, 20.73it/s, now=None]\u001b[A\n",
      "t:  63%|██████▎   | 143/227 [00:19<00:04, 18.86it/s, now=None]\u001b[A\n",
      "t:  64%|██████▍   | 146/227 [00:19<00:03, 20.94it/s, now=None]\u001b[A\n",
      "t:  66%|██████▌   | 149/227 [00:19<00:03, 22.72it/s, now=None]\u001b[A\n",
      "t:  67%|██████▋   | 152/227 [00:19<00:03, 24.36it/s, now=None]\u001b[A\n",
      "t:  68%|██████▊   | 155/227 [00:19<00:02, 25.08it/s, now=None]\u001b[A\n",
      "t:  70%|██████▉   | 158/227 [00:19<00:02, 26.15it/s, now=None]\u001b[A\n",
      "t:  71%|███████   | 161/227 [00:19<00:02, 26.86it/s, now=None]\u001b[A\n",
      "t:  72%|███████▏  | 164/227 [00:20<00:02, 27.36it/s, now=None]\u001b[A\n",
      "t:  74%|███████▎  | 167/227 [00:20<00:02, 27.61it/s, now=None]\u001b[A\n",
      "t:  75%|███████▍  | 170/227 [00:20<00:02, 27.82it/s, now=None]\u001b[A\n",
      "t:  76%|███████▌  | 173/227 [00:20<00:01, 28.00it/s, now=None]\u001b[A\n",
      "t:  78%|███████▊  | 176/227 [00:20<00:01, 28.27it/s, now=None]\u001b[A\n",
      "t:  79%|███████▉  | 179/227 [00:20<00:01, 27.90it/s, now=None]\u001b[A\n",
      "t:  80%|████████  | 182/227 [00:20<00:01, 27.82it/s, now=None]\u001b[A\n",
      "t:  81%|████████▏ | 185/227 [00:20<00:01, 27.71it/s, now=None]\u001b[A\n",
      "t:  83%|████████▎ | 188/227 [00:20<00:01, 28.00it/s, now=None]\u001b[A\n",
      "t:  84%|████████▍ | 191/227 [00:21<00:01, 27.44it/s, now=None]\u001b[A\n",
      "t:  85%|████████▌ | 194/227 [00:21<00:01, 27.98it/s, now=None]\u001b[A\n",
      "t:  87%|████████▋ | 197/227 [00:21<00:01, 27.80it/s, now=None]\u001b[A\n",
      "t:  88%|████████▊ | 200/227 [00:21<00:00, 27.38it/s, now=None]\u001b[A\n",
      "t:  89%|████████▉ | 203/227 [00:21<00:00, 26.75it/s, now=None]\u001b[A\n",
      "t:  91%|█████████ | 206/227 [00:21<00:00, 25.18it/s, now=None]\u001b[A\n",
      "t:  92%|█████████▏| 209/227 [00:21<00:00, 23.59it/s, now=None]\u001b[A\n",
      "t:  93%|█████████▎| 212/227 [00:21<00:00, 22.27it/s, now=None]\u001b[A\n",
      "t:  95%|█████████▍| 215/227 [00:22<00:00, 21.21it/s, now=None]\u001b[A\n",
      "t:  96%|█████████▌| 218/227 [00:22<00:00, 20.53it/s, now=None]\u001b[A\n",
      "t:  97%|█████████▋| 221/227 [00:22<00:00, 20.33it/s, now=None]\u001b[A\n",
      "t:  99%|█████████▊| 224/227 [00:22<00:00, 21.47it/s, now=None]\u001b[A\n",
      "t: 100%|██████████| 227/227 [00:22<00:00, 22.56it/s, now=None]\u001b[A\n",
      "t:   7%|▋         | 15/227 [00:34<00:43,  4.90it/s, now=None] \u001b[A"
     ]
    },
    {
     "name": "stdout",
     "output_type": "stream",
     "text": [
      "Moviepy - Done !\n",
      "Moviepy - video ready examples/header.mp4\n"
     ]
    },
    {
     "data": {
      "text/plain": [
       "CompletedProcess(args='rm -r ./examples/.ipynb_checkpoints', returncode=0)"
      ]
     },
     "execution_count": 93,
     "metadata": {},
     "output_type": "execute_result"
    }
   ],
   "source": [
    "import os\n",
    "import subprocess\n",
    "from moviepy.editor import *\n",
    "try:\n",
    "    os.mkdir('examples/header')\n",
    "except:\n",
    "    pass\n",
    "\n",
    "clip = VideoFileClip('input.mp4'.format(video))\n",
    "header = VideoFileClip('./header2_an.mp4').resize(width=1920)\n",
    " \n",
    "header = vfx.freeze(header,t=1,freeze_duration=clip.duration - header.duration)\n",
    "temp = clips_array([[header],[clip]])\n",
    "timer = VideoFileClip('./timer2_an_Trim.mp4').resize(temp.size)\n",
    "concatenate_videoclips([timer,temp]).write_videofile('{}'.\\\n",
    "                                                    format(os.path.join('examples',  'header.mp4')))\n",
    "\n",
    "# remove side products from jupyter notebook\n",
    "subprocess.run('rm -r ./examples/.ipynb_checkpoints'.format(url),shell=True)\n"
   ]
  },
  {
   "cell_type": "markdown",
   "metadata": {},
   "source": [
    "# 5. Demo: Create  test videos for a campaign.\n",
    "We want to create videos in https://github.com/tony-ou/web_QoE_user_study/tree/main/campaign/separate_poke2"
   ]
  },
  {
   "cell_type": "markdown",
   "metadata": {},
   "source": [
    "\n",
    "We need to first locate the pixel coordinates of the regions we want to change.\n",
    "If you are on windows, you can use Paint to do this mannually. (https://github.com/tony-ou/web_QoE_video_creation/blob/main/image.jpg)\n",
    "If you are doing this for many videos, it's better to use existing segmentation (like for Webgaze dataset). or use some segmentation algorithm."
   ]
  },
  {
   "cell_type": "code",
   "execution_count": 76,
   "metadata": {},
   "outputs": [],
   "source": [
    "try:\n",
    "    os.mkdir('examples/separate_poke2')\n",
    "except:\n",
    "    pass\n",
    "https://github.com/tony-ou/web_QoE_video_creation/blob/main/video_creation.ipynb\n",
    "\n",
    "\n",
    "clip = VideoFileClip('input.mp4'.format(video))\n",
    "small_images = [[ 380, 631, 547, 850],\n",
    "                [ 557, 631, 741, 850],\n",
    "                [ 751, 631, 929, 850],\n",
    "                [956, 631, 1128 , 850],\n",
    "                [1150, 631, 1314, 850],\n",
    "                [1330, 631, 1533, 850]]\n",
    "bottom_image = [296, 851, 1616, 1080]"
   ]
  },
  {
   "cell_type": "code",
   "execution_count": 91,
   "metadata": {},
   "outputs": [
    {
     "name": "stderr",
     "output_type": "stream",
     "text": [
      "                                                              \n",
      "chunk:   0%|          | 0/299 [00:00<?, ?it/s, now=None]    \u001b[A"
     ]
    },
    {
     "name": "stdout",
     "output_type": "stream",
     "text": [
      "Moviepy - Building video examples/separate_poke2_header/1.mp4.\n",
      "MoviePy - Writing audio in 1TEMP_MPY_wvf_snd.mp3\n"
     ]
    },
    {
     "name": "stderr",
     "output_type": "stream",
     "text": [
      "t:   1%|          | 5/407 [00:00<00:08, 45.63it/s, now=None]       "
     ]
    },
    {
     "name": "stdout",
     "output_type": "stream",
     "text": [
      "MoviePy - Done.\n",
      "Moviepy - Writing video examples/separate_poke2_header/1.mp4\n",
      "\n"
     ]
    },
    {
     "name": "stderr",
     "output_type": "stream",
     "text": [
      "                                                              \r"
     ]
    },
    {
     "name": "stdout",
     "output_type": "stream",
     "text": [
      "Moviepy - Done !\n",
      "Moviepy - video ready examples/separate_poke2_header/1.mp4\n"
     ]
    },
    {
     "name": "stderr",
     "output_type": "stream",
     "text": [
      "\r",
      "chunk:   0%|          | 0/299 [00:00<?, ?it/s, now=None]"
     ]
    },
    {
     "name": "stdout",
     "output_type": "stream",
     "text": [
      "Moviepy - Building video examples/separate_poke2_header/2.mp4.\n",
      "MoviePy - Writing audio in 2TEMP_MPY_wvf_snd.mp3\n"
     ]
    },
    {
     "name": "stderr",
     "output_type": "stream",
     "text": [
      "t:   0%|          | 0/407 [00:00<?, ?it/s, now=None]               "
     ]
    },
    {
     "name": "stdout",
     "output_type": "stream",
     "text": [
      "MoviePy - Done.\n",
      "Moviepy - Writing video examples/separate_poke2_header/2.mp4\n",
      "\n"
     ]
    },
    {
     "name": "stderr",
     "output_type": "stream",
     "text": [
      "                                                              \r"
     ]
    },
    {
     "name": "stdout",
     "output_type": "stream",
     "text": [
      "Moviepy - Done !\n",
      "Moviepy - video ready examples/separate_poke2_header/2.mp4\n"
     ]
    },
    {
     "name": "stderr",
     "output_type": "stream",
     "text": [
      "\r",
      "chunk:   0%|          | 0/167 [00:00<?, ?it/s, now=None]"
     ]
    },
    {
     "name": "stdout",
     "output_type": "stream",
     "text": [
      "Moviepy - Building video examples/separate_poke2_header/3.mp4.\n",
      "MoviePy - Writing audio in 3TEMP_MPY_wvf_snd.mp3\n"
     ]
    },
    {
     "name": "stderr",
     "output_type": "stream",
     "text": [
      "t:   2%|▏         | 4/227 [00:00<00:05, 38.25it/s, now=None]      "
     ]
    },
    {
     "name": "stdout",
     "output_type": "stream",
     "text": [
      "MoviePy - Done.\n",
      "Moviepy - Writing video examples/separate_poke2_header/3.mp4\n",
      "\n"
     ]
    },
    {
     "name": "stderr",
     "output_type": "stream",
     "text": [
      "                                                              \r"
     ]
    },
    {
     "name": "stdout",
     "output_type": "stream",
     "text": [
      "Moviepy - Done !\n",
      "Moviepy - video ready examples/separate_poke2_header/3.mp4\n"
     ]
    }
   ],
   "source": [
    "def add_header_timer(vid):\n",
    "    header = VideoFileClip('./header2_an.mp4').resize(width=1920)\n",
    "    header = vfx.freeze(header,t=1,freeze_duration=vid.duration - header.duration)\n",
    "    temp = clips_array([[header],[vid]])\n",
    "    timer = VideoFileClip('./timer2_an_Trim.mp4').resize(temp.size)\n",
    "    return concatenate_videoclips([timer,temp])\n",
    "\n",
    "\n",
    "# create 1.mp4, this may run for several minutes\n",
    "composite_list = []\n",
    "for i, region in enumerate(small_images):\n",
    "    new_clip = vfx.crop(clip, x1 = region[0], x2= region[2], y1= region[1], y2=region[3])\n",
    "    new_clip = vfx.freeze(new_clip, t=0, freeze_duration=i + 1) \n",
    "    new_clip= vfx.freeze(new_clip, t=new_clip.duration-0.5, freeze_duration=5 - i)\n",
    "    composite_list.append(new_clip.set_position(region[:2]))\n",
    "\n",
    "new_clip = vfx.crop(clip, x1 = bottom_image[0], x2= bottom_image[2], y1= bottom_image[1], y2=bottom_image[3])\n",
    "new_clip = vfx.freeze(new_clip, t=0, freeze_duration=3) \n",
    "new_clip= vfx.freeze(new_clip, t=new_clip.duration-0.5, freeze_duration=3)\n",
    "composite_list.append(new_clip.set_position(bottom_image[:2]))\n",
    "    \n",
    "composite_list.insert(0, vfx.freeze(clip, t=clip.duration-0.5, freeze_duration=6))\n",
    "final = CompositeVideoClip(composite_list)\n",
    "add_header_timer(final).write_videofile(\"examples/separate_poke2_header/1.mp4\")\n",
    "\n",
    "# create 2.mp4\n",
    "new_clip = vfx.crop(clip, x1 = bottom_image[0], x2= bottom_image[2], y1= bottom_image[1], y2=bottom_image[3])\n",
    "new_clip = vfx.freeze(new_clip, t=0, freeze_duration=3) \n",
    "new_clip= vfx.freeze(new_clip, t=new_clip.duration-0.5, freeze_duration=3)\n",
    "composite_list[-1] = new_clip.set_position(bottom_image[:2])\n",
    "add_header_timer(final).write_videofile(\"examples/separate_poke2_header/2.mp4\")\n",
    "\n",
    "# create 3.mp4. (This is video is unchanged for reference purpose)\n",
    "add_header_timer(clip).write_videofile(\"examples/separate_poke2_header/3.mp4\")\n"
   ]
  }
 ],
 "metadata": {
  "kernelspec": {
   "display_name": "Python 3",
   "language": "python",
   "name": "python3"
  },
  "language_info": {
   "codemirror_mode": {
    "name": "ipython",
    "version": 3
   },
   "file_extension": ".py",
   "mimetype": "text/x-python",
   "name": "python",
   "nbconvert_exporter": "python",
   "pygments_lexer": "ipython3",
   "version": "3.6.9"
  }
 },
 "nbformat": 4,
 "nbformat_minor": 5
}
