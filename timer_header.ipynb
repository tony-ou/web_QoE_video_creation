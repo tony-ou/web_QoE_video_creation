{
 "cells": [
  {
   "cell_type": "code",
   "execution_count": 44,
   "metadata": {},
   "outputs": [
    {
     "name": "stderr",
     "output_type": "stream",
     "text": [
      "\r",
      "chunk:   0%|          | 0/167 [00:00<?, ?it/s, now=None]"
     ]
    },
    {
     "name": "stdout",
     "output_type": "stream",
     "text": [
      "3.0 4.54\n",
      "Moviepy - Building video poke5/5.mp4.\n",
      "MoviePy - Writing audio in 5TEMP_MPY_wvf_snd.mp3\n"
     ]
    },
    {
     "name": "stderr",
     "output_type": "stream",
     "text": [
      "t:   0%|          | 0/227 [00:00<?, ?it/s, now=None]    "
     ]
    },
    {
     "name": "stdout",
     "output_type": "stream",
     "text": [
      "MoviePy - Done.\n",
      "Moviepy - Writing video poke5/5.mp4\n",
      "\n"
     ]
    },
    {
     "name": "stderr",
     "output_type": "stream",
     "text": [
      "                                                              \r"
     ]
    },
    {
     "name": "stdout",
     "output_type": "stream",
     "text": [
      "Moviepy - Done !\n",
      "Moviepy - video ready poke5/5.mp4\n"
     ]
    },
    {
     "data": {
      "text/plain": [
       "CompletedProcess(args='rm -r ./videos/poke5/.ipynb_checkpoints', returncode=1)"
      ]
     },
     "execution_count": 44,
     "metadata": {},
     "output_type": "execute_result"
    }
   ],
   "source": [
    "import os\n",
    "import subprocess\n",
    "from moviepy.editor import *\n",
    "video_name = 'separate_poke2'\n",
    "files = os.listdir(video_name)\n",
    "new_name = sorted(files,reverse=False,key=lambda x:int(x.split('.')[0]))\n",
    "\n",
    "try:\n",
    "    os.mkdir('campaign/separate_poke2')\n",
    "except:\n",
    "    pass\n",
    "\n",
    "for _,v in enumerate(new_name[:]):\n",
    "    if 'mp4' not in v:\n",
    "        continue\n",
    "    vid = VideoFileClip(video_name + '/'  + v)\n",
    "    header = VideoFileClip('../header2_an.mp4').resize(width=1920)\n",
    "    header =  vfx.freeze(header,t=1,freeze_duration=vid.duration - header.duration)\n",
    "    temp= clips_array([[header],[vid]])\n",
    "    timer = VideoFileClip('../timer2_an_Trim.mp4').resize(temp.size)\n",
    "    print(timer.duration, temp.duration)\n",
    "    concatenate_videoclips([timer,temp]).write_videofile('{}'.format('campaign' + '/' + video_name + '/'  + str(i) + '.mp4'))\n",
    "    i += 1\n",
    "subprocess.run('rm -r ./campaign/{}/.ipynb_checkpoints'.format(url),shell=True)"
   ]
  }
 ],
 "metadata": {
  "kernelspec": {
   "display_name": "Python 3",
   "language": "python",
   "name": "python3"
  },
  "language_info": {
   "codemirror_mode": {
    "name": "ipython",
    "version": 3
   },
   "file_extension": ".py",
   "mimetype": "text/x-python",
   "name": "python",
   "nbconvert_exporter": "python",
   "pygments_lexer": "ipython3",
   "version": "3.6.9"
  }
 },
 "nbformat": 4,
 "nbformat_minor": 4
}
